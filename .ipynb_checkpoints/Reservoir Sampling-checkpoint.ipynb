{
 "cells": [
  {
   "cell_type": "code",
   "execution_count": null,
   "metadata": {
    "collapsed": true
   },
   "outputs": [],
   "source": [
    "import random\n",
    "import copy\n",
    "def reservoirSampling(seq, k):\n",
    "    localSeq = copy.deepcopy(seq)\n",
    "    N = len(localSeq)\n",
    "    for i in xrange(k, N):\n",
    "        M = int(random.uniform(0, i))\n",
    "        if M < k:\n",
    "            tmp = copy.deepcopy(localSeq[M])\n",
    "            localSeq[M] = copy.deepcopy(localSeq[i])\n",
    "            localSeq[i] = tmp\n",
    "    return localSeq[0:k]\n",
    "def main():\n",
    "    a = [4,5,6,3,4,7,7,4,3,3,2,4,5,5,6,9,5,4,3,45,3,23,44,55,33,5,8]\n",
    "    k = 5\n",
    "    print reservoirSampling(a, k)\n",
    "if __name__ == \"__main__\":\n",
    "    main()"
   ]
  }
 ],
 "metadata": {
  "kernelspec": {
   "display_name": "Python 3",
   "language": "python",
   "name": "python3"
  },
  "language_info": {
   "codemirror_mode": {
    "name": "ipython",
    "version": 3
   },
   "file_extension": ".py",
   "mimetype": "text/x-python",
   "name": "python",
   "nbconvert_exporter": "python",
   "pygments_lexer": "ipython3",
   "version": "3.6.2"
  }
 },
 "nbformat": 4,
 "nbformat_minor": 2
}
